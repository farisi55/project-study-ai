{
  "nbformat": 4,
  "nbformat_minor": 0,
  "metadata": {
    "colab": {
      "provenance": []
    },
    "kernelspec": {
      "name": "python3",
      "display_name": "Python 3"
    },
    "language_info": {
      "name": "python"
    }
  },
  "cells": [
    {
      "cell_type": "markdown",
      "source": [
        "# String\n",
        "- DOuble quote (\"\")\n",
        "- Single quote (')\n",
        "- Triple double quote (\"\"\")"
      ],
      "metadata": {
        "id": "aTwn1kVU5M44"
      }
    },
    {
      "cell_type": "code",
      "execution_count": null,
      "metadata": {
        "colab": {
          "base_uri": "https://localhost:8080/"
        },
        "id": "yRPH8bMV0WXQ",
        "outputId": "8d726294-6118-49cf-e32b-cb705f3e7d6e"
      },
      "outputs": [
        {
          "output_type": "stream",
          "name": "stdout",
          "text": [
            "\"Hai apa kabar?\", kata Budi\n"
          ]
        }
      ],
      "source": [
        "dialog_1 = '\"Hai apa kabar?\", kata Budi'\n",
        "print(dialog_1)"
      ]
    },
    {
      "cell_type": "code",
      "source": [
        "dialog_2 = \"'Hai apa kabar?', kata Budi\"\n",
        "print(dialog_2)"
      ],
      "metadata": {
        "colab": {
          "base_uri": "https://localhost:8080/"
        },
        "id": "wD_p3d-15xIe",
        "outputId": "92126ea3-8c0e-47ca-f7e5-a423a5cfb9d8"
      },
      "execution_count": null,
      "outputs": [
        {
          "output_type": "stream",
          "name": "stdout",
          "text": [
            "'Hai apa kabar?', kata Budi\n"
          ]
        }
      ]
    },
    {
      "cell_type": "code",
      "source": [
        "dialog_3 = \"\"\"\n",
        "SELECT *\n",
        "FROM table\n",
        "\"\"\"\n",
        "\n",
        "print(dialog_3)"
      ],
      "metadata": {
        "colab": {
          "base_uri": "https://localhost:8080/"
        },
        "id": "ZFiMBd2d6CaM",
        "outputId": "4e00614a-02e5-401a-b8da-ab32577293c7"
      },
      "execution_count": null,
      "outputs": [
        {
          "output_type": "stream",
          "name": "stdout",
          "text": [
            "\n",
            "SELECT *\n",
            "FROM table\n",
            "\n"
          ]
        }
      ]
    },
    {
      "cell_type": "code",
      "source": [
        "dialog_4 = \"\n",
        "SELECT *\n",
        "FROM table\n",
        "\"\n",
        "\n",
        "print(dialog_4)"
      ],
      "metadata": {
        "colab": {
          "base_uri": "https://localhost:8080/",
          "height": 141
        },
        "id": "g7cmLLnL6N1r",
        "outputId": "ef0c472e-01f6-4a12-e8c4-8788b7111144"
      },
      "execution_count": null,
      "outputs": [
        {
          "output_type": "error",
          "ename": "SyntaxError",
          "evalue": "unterminated string literal (detected at line 1) (<ipython-input-8-8e5b90e27398>, line 1)",
          "traceback": [
            "\u001b[0;36m  File \u001b[0;32m\"<ipython-input-8-8e5b90e27398>\"\u001b[0;36m, line \u001b[0;32m1\u001b[0m\n\u001b[0;31m    dialog_4 = \"\u001b[0m\n\u001b[0m               ^\u001b[0m\n\u001b[0;31mSyntaxError\u001b[0m\u001b[0;31m:\u001b[0m unterminated string literal (detected at line 1)\n"
          ]
        }
      ]
    },
    {
      "cell_type": "markdown",
      "source": [
        "# String Formatting\n",
        "- %s -> string\n",
        "- %d -> angka\n",
        "- %.2f -> Dua angka di belakang koma"
      ],
      "metadata": {
        "id": "3MzDzpfD8A2l"
      }
    },
    {
      "cell_type": "code",
      "source": [
        "dialog_sapaan = \"\"\"Selamat pagi, %s\n",
        "Sisa saldo anda adalah %d\"\"\""
      ],
      "metadata": {
        "id": "2c2YUzSp6Roe"
      },
      "execution_count": null,
      "outputs": []
    },
    {
      "cell_type": "code",
      "source": [
        "nama = \"Hasby\"\n",
        "saldo = 1000000"
      ],
      "metadata": {
        "id": "p0yIIZG88ffP"
      },
      "execution_count": null,
      "outputs": []
    },
    {
      "cell_type": "code",
      "source": [
        "print(dialog_sapaan % (nama, saldo))"
      ],
      "metadata": {
        "colab": {
          "base_uri": "https://localhost:8080/"
        },
        "id": "F4pJKims8ie5",
        "outputId": "1e83aa4b-7618-4db5-aa1e-cda0a51c2ab7"
      },
      "execution_count": null,
      "outputs": [
        {
          "output_type": "stream",
          "name": "stdout",
          "text": [
            "Selamat pagi, Hasby\n",
            "Sisa saldo anda adalah 1000000\n"
          ]
        }
      ]
    },
    {
      "cell_type": "code",
      "source": [
        "pi = 3.142367\n",
        "print(\"Nilai pi adalah %.2f\" % (pi))"
      ],
      "metadata": {
        "colab": {
          "base_uri": "https://localhost:8080/"
        },
        "id": "vdQnHupF82rL",
        "outputId": "6cf17295-97dc-4a3d-c927-31fa5d9878ca"
      },
      "execution_count": null,
      "outputs": [
        {
          "output_type": "stream",
          "name": "stdout",
          "text": [
            "Nilai pi adalah 3.14\n"
          ]
        }
      ]
    },
    {
      "cell_type": "code",
      "source": [
        "dialog_sapaan = f\"\"\"Selamat pagi, {nama}\n",
        "Sisa saldo anda adalah {saldo}\"\"\""
      ],
      "metadata": {
        "id": "X_X77OXC9qxr"
      },
      "execution_count": null,
      "outputs": []
    },
    {
      "cell_type": "code",
      "source": [
        "print(dialog_sapaan)"
      ],
      "metadata": {
        "colab": {
          "base_uri": "https://localhost:8080/"
        },
        "id": "4IdLSbE6-SCG",
        "outputId": "d72e976d-15b0-40df-ed90-a335aafb7f1d"
      },
      "execution_count": null,
      "outputs": [
        {
          "output_type": "stream",
          "name": "stdout",
          "text": [
            "Selamat pagi, Hasby\n",
            "Sisa saldo anda adalah 1000000\n"
          ]
        }
      ]
    },
    {
      "cell_type": "markdown",
      "source": [
        "# Math\n",
        "- Penjumlahan -> +\n",
        "- Pengurangan -> -\n",
        "- Perkalian -> *\n",
        "- Pembagian -> /\n",
        "- Pemangkatan -> **\n",
        "- Modulo (pembagiann sisa) -> %\n",
        "- Pembagian integer -> //\n",
        "- Pembulatan -> round(angka, digit)"
      ],
      "metadata": {
        "id": "OPbEoFZE-7__"
      }
    },
    {
      "cell_type": "code",
      "source": [
        "angka_1 = 3\n",
        "angka_2 = 11\n",
        "\n",
        "print(angka_1 + angka_2)\n",
        "print(angka_1 - angka_2)\n",
        "print(angka_1 * angka_2)\n",
        "print(\"%.2f\" % (angka_1 / angka_2))\n",
        "print(round(angka_1 / angka_2, 2))"
      ],
      "metadata": {
        "colab": {
          "base_uri": "https://localhost:8080/"
        },
        "id": "VHzJxwEO-cid",
        "outputId": "49a62b7f-a2b0-466d-f5f8-3648a4db1307"
      },
      "execution_count": null,
      "outputs": [
        {
          "output_type": "stream",
          "name": "stdout",
          "text": [
            "14\n",
            "-8\n",
            "33\n",
            "0.27\n",
            "0.27\n"
          ]
        }
      ]
    },
    {
      "cell_type": "code",
      "source": [
        "print(angka_1 // angka_2)"
      ],
      "metadata": {
        "colab": {
          "base_uri": "https://localhost:8080/"
        },
        "id": "Jje_HPBG-2HO",
        "outputId": "f9fa7a6f-9699-467d-9f5e-a83a79a19171"
      },
      "execution_count": null,
      "outputs": [
        {
          "output_type": "stream",
          "name": "stdout",
          "text": [
            "0\n"
          ]
        }
      ]
    },
    {
      "cell_type": "code",
      "source": [
        "print(angka_1 ** angka_2)"
      ],
      "metadata": {
        "colab": {
          "base_uri": "https://localhost:8080/"
        },
        "id": "7kvVluga-63I",
        "outputId": "1509ce0e-1b4f-4853-9ecd-4abbd3f1eaac"
      },
      "execution_count": null,
      "outputs": [
        {
          "output_type": "stream",
          "name": "stdout",
          "text": [
            "81\n"
          ]
        }
      ]
    },
    {
      "cell_type": "code",
      "source": [
        "print(angka_2 % angka_1)"
      ],
      "metadata": {
        "colab": {
          "base_uri": "https://localhost:8080/"
        },
        "id": "UjeXwhvVAi6j",
        "outputId": "75601f3f-c92b-4a32-f820-fe70c3a45143"
      },
      "execution_count": null,
      "outputs": [
        {
          "output_type": "stream",
          "name": "stdout",
          "text": [
            "2\n"
          ]
        }
      ]
    },
    {
      "cell_type": "code",
      "source": [
        "print(4**(1/2))"
      ],
      "metadata": {
        "colab": {
          "base_uri": "https://localhost:8080/"
        },
        "id": "rVS_ZUjK_j97",
        "outputId": "e46152d4-6a57-4fff-8cde-ea3275d76cf4"
      },
      "execution_count": null,
      "outputs": [
        {
          "output_type": "stream",
          "name": "stdout",
          "text": [
            "2.0\n"
          ]
        }
      ]
    },
    {
      "cell_type": "code",
      "source": [
        "from math import sqrt\n",
        "import math"
      ],
      "metadata": {
        "id": "B_v_ftG-_oLS"
      },
      "execution_count": null,
      "outputs": []
    },
    {
      "cell_type": "code",
      "source": [
        "sqrt(4)\n",
        "math.sqrt(4)"
      ],
      "metadata": {
        "colab": {
          "base_uri": "https://localhost:8080/"
        },
        "id": "qMP11zZt_si9",
        "outputId": "b0c01be8-fac7-4105-eff2-9d4927baed5f"
      },
      "execution_count": null,
      "outputs": [
        {
          "output_type": "execute_result",
          "data": {
            "text/plain": [
              "2.0"
            ]
          },
          "metadata": {},
          "execution_count": 37
        }
      ]
    },
    {
      "cell_type": "code",
      "source": [],
      "metadata": {
        "id": "GqrfpBgA_tn7"
      },
      "execution_count": null,
      "outputs": []
    },
    {
      "cell_type": "markdown",
      "source": [
        "# List"
      ],
      "metadata": {
        "id": "eZISAZ_jBRI_"
      }
    },
    {
      "cell_type": "code",
      "source": [
        "orang1 = \"Bunga\"\n",
        "orang2 = \"Citra\"\n",
        "orang3 = \"Lestari\""
      ],
      "metadata": {
        "id": "brNMJ79YBT-L"
      },
      "execution_count": null,
      "outputs": []
    },
    {
      "cell_type": "code",
      "source": [
        "nama_orang = [orang1, orang2, orang3]\n",
        "print(nama_orang)"
      ],
      "metadata": {
        "colab": {
          "base_uri": "https://localhost:8080/"
        },
        "id": "zAkqnodqCa0m",
        "outputId": "23360c18-4ee7-4a54-9eda-0322622298e7"
      },
      "execution_count": null,
      "outputs": [
        {
          "output_type": "stream",
          "name": "stdout",
          "text": [
            "['Bunga', 'Citra', 'Lestari']\n"
          ]
        }
      ]
    },
    {
      "cell_type": "code",
      "source": [
        "nama_orang = [\"Bunga\", \"Citra\", \"Lestari\"]\n",
        "print(nama_orang)"
      ],
      "metadata": {
        "colab": {
          "base_uri": "https://localhost:8080/"
        },
        "id": "o-CWYLNpCgEv",
        "outputId": "f6a29f4d-3cae-4747-98b9-800a08a4dc55"
      },
      "execution_count": null,
      "outputs": [
        {
          "output_type": "stream",
          "name": "stdout",
          "text": [
            "['Bunga', 'Citra', 'Lestari']\n"
          ]
        }
      ]
    },
    {
      "cell_type": "code",
      "source": [
        "akun = [nama, saldo]\n",
        "print(akun)"
      ],
      "metadata": {
        "colab": {
          "base_uri": "https://localhost:8080/"
        },
        "id": "EqpQ_yGyCmfJ",
        "outputId": "b121fae3-8b97-404e-aa25-8e4d510aca93"
      },
      "execution_count": null,
      "outputs": [
        {
          "output_type": "stream",
          "name": "stdout",
          "text": [
            "['Hasby', 1000000]\n"
          ]
        }
      ]
    },
    {
      "cell_type": "code",
      "source": [
        "akun = [\"Nouval\", 500000, \"Hasby\", 1000000]\n",
        "print(akun)"
      ],
      "metadata": {
        "colab": {
          "base_uri": "https://localhost:8080/"
        },
        "id": "72q-pEQ3CsIJ",
        "outputId": "0e0c64df-edaa-44a4-b00c-b161cc89253e"
      },
      "execution_count": null,
      "outputs": [
        {
          "output_type": "stream",
          "name": "stdout",
          "text": [
            "['Nouval', 500000, 'Hasby', 1000000]\n"
          ]
        }
      ]
    },
    {
      "cell_type": "markdown",
      "source": [
        "## List indexing\n",
        "list[start: stop + 1 :step]\n",
        "- dari awal -> list[:3:2]\n",
        "- sampe akhir -> list[2::2]\n",
        "- step default 1 -> list[3:7]\n"
      ],
      "metadata": {
        "id": "Ettr7YtdDMjx"
      }
    },
    {
      "cell_type": "code",
      "source": [
        "print(akun[0])\n",
        "print(akun[-1])"
      ],
      "metadata": {
        "colab": {
          "base_uri": "https://localhost:8080/"
        },
        "id": "pDRP-TuJCw1w",
        "outputId": "a13e8dce-f6bf-4271-8253-5f3707ec9895"
      },
      "execution_count": null,
      "outputs": [
        {
          "output_type": "stream",
          "name": "stdout",
          "text": [
            "Nouval\n",
            "1000000\n"
          ]
        }
      ]
    },
    {
      "cell_type": "code",
      "source": [
        "print(akun[0::2])"
      ],
      "metadata": {
        "colab": {
          "base_uri": "https://localhost:8080/"
        },
        "id": "QsS0oXAHDQDU",
        "outputId": "55fe223f-b80a-40e0-ca48-a24c0a210c93"
      },
      "execution_count": null,
      "outputs": [
        {
          "output_type": "stream",
          "name": "stdout",
          "text": [
            "['Nouval', 'Hasby']\n"
          ]
        }
      ]
    },
    {
      "cell_type": "code",
      "source": [
        "print(akun[0:2])"
      ],
      "metadata": {
        "colab": {
          "base_uri": "https://localhost:8080/"
        },
        "id": "kuwCRBAUDX6f",
        "outputId": "a79706ee-f515-4e9a-a891-fe86442cdfbc"
      },
      "execution_count": null,
      "outputs": [
        {
          "output_type": "stream",
          "name": "stdout",
          "text": [
            "['Nouval', 500000]\n"
          ]
        }
      ]
    },
    {
      "cell_type": "code",
      "source": [
        "akun[0] = \"Rendy\""
      ],
      "metadata": {
        "id": "4_iPGpd_DaSN"
      },
      "execution_count": null,
      "outputs": []
    },
    {
      "cell_type": "code",
      "source": [
        "akun[1] = akun[1] * 2"
      ],
      "metadata": {
        "id": "bPhi_iNSDgGa"
      },
      "execution_count": null,
      "outputs": []
    },
    {
      "cell_type": "code",
      "source": [
        "akun"
      ],
      "metadata": {
        "colab": {
          "base_uri": "https://localhost:8080/"
        },
        "id": "Py2NRHRCDhVu",
        "outputId": "beefbbb4-6ddd-4e57-8195-54e361f7670d"
      },
      "execution_count": null,
      "outputs": [
        {
          "output_type": "execute_result",
          "data": {
            "text/plain": [
              "['Rendy', 1000000, 'Hasby', 1000000]"
            ]
          },
          "metadata": {},
          "execution_count": 60
        }
      ]
    },
    {
      "cell_type": "code",
      "source": [
        "del akun[-2:]"
      ],
      "metadata": {
        "id": "gumfbjPqDnxC"
      },
      "execution_count": null,
      "outputs": []
    },
    {
      "cell_type": "code",
      "source": [
        "akun"
      ],
      "metadata": {
        "colab": {
          "base_uri": "https://localhost:8080/"
        },
        "id": "amrzwpM9DrY1",
        "outputId": "cbb6f272-1433-47f3-cd45-9ca2191d2c50"
      },
      "execution_count": null,
      "outputs": [
        {
          "output_type": "execute_result",
          "data": {
            "text/plain": [
              "['Rendy', 1000000]"
            ]
          },
          "metadata": {},
          "execution_count": 62
        }
      ]
    },
    {
      "cell_type": "markdown",
      "source": [
        "## Nested List"
      ],
      "metadata": {
        "id": "cWG8uwcKEo3A"
      }
    },
    {
      "cell_type": "code",
      "source": [
        "akun_nasabah = [\n",
        "    [\"Nouval\", 1000000],\n",
        "    [\"Budi\", 200000]\n",
        "]"
      ],
      "metadata": {
        "id": "YZ6DUY4dDr-N"
      },
      "execution_count": null,
      "outputs": []
    },
    {
      "cell_type": "code",
      "source": [
        "print(akun_nasabah)"
      ],
      "metadata": {
        "colab": {
          "base_uri": "https://localhost:8080/"
        },
        "id": "_lq2-y-vEwqB",
        "outputId": "5cfd38b4-19d0-422a-a4ec-a536015a3d09"
      },
      "execution_count": null,
      "outputs": [
        {
          "output_type": "stream",
          "name": "stdout",
          "text": [
            "[['Nouval', 1000000], ['Budi', 200000]]\n"
          ]
        }
      ]
    },
    {
      "cell_type": "code",
      "source": [
        "akun_nasabah[0][1]"
      ],
      "metadata": {
        "colab": {
          "base_uri": "https://localhost:8080/"
        },
        "id": "rv48mwuuEys9",
        "outputId": "0731dc9b-f58b-43b9-9e67-a1d513a9bb76"
      },
      "execution_count": null,
      "outputs": [
        {
          "output_type": "execute_result",
          "data": {
            "text/plain": [
              "1000000"
            ]
          },
          "metadata": {},
          "execution_count": 67
        }
      ]
    },
    {
      "cell_type": "markdown",
      "source": [
        "# Tuple\n",
        "Ini sama kaya list, nilainya statis, tidak bisa diganti"
      ],
      "metadata": {
        "id": "wbFnYdiWFd6V"
      }
    },
    {
      "cell_type": "code",
      "source": [
        "akun_nasabah_tuple = (\"Nouval\", 100000)"
      ],
      "metadata": {
        "id": "XTJpBBEBFdP6"
      },
      "execution_count": null,
      "outputs": []
    },
    {
      "cell_type": "code",
      "source": [
        "akun_nasabah_tuple[0] = \"Rendy\""
      ],
      "metadata": {
        "colab": {
          "base_uri": "https://localhost:8080/",
          "height": 176
        },
        "id": "76_0qom-E1Ux",
        "outputId": "317323c9-dd78-4336-a1c5-51d8b0feceb9"
      },
      "execution_count": null,
      "outputs": [
        {
          "output_type": "error",
          "ename": "TypeError",
          "evalue": "'tuple' object does not support item assignment",
          "traceback": [
            "\u001b[0;31m---------------------------------------------------------------------------\u001b[0m",
            "\u001b[0;31mTypeError\u001b[0m                                 Traceback (most recent call last)",
            "\u001b[0;32m<ipython-input-70-12f86cd1c952>\u001b[0m in \u001b[0;36m<cell line: 1>\u001b[0;34m()\u001b[0m\n\u001b[0;32m----> 1\u001b[0;31m \u001b[0makun_nasabah_tuple\u001b[0m\u001b[0;34m[\u001b[0m\u001b[0;36m0\u001b[0m\u001b[0;34m]\u001b[0m \u001b[0;34m=\u001b[0m \u001b[0;34m\"Rendy\"\u001b[0m\u001b[0;34m\u001b[0m\u001b[0;34m\u001b[0m\u001b[0m\n\u001b[0m",
            "\u001b[0;31mTypeError\u001b[0m: 'tuple' object does not support item assignment"
          ]
        }
      ]
    },
    {
      "cell_type": "code",
      "source": [],
      "metadata": {
        "id": "E23rEIyYFo1b"
      },
      "execution_count": null,
      "outputs": []
    },
    {
      "cell_type": "markdown",
      "source": [
        "# Dictionary"
      ],
      "metadata": {
        "id": "r1nvbxR4GXry"
      }
    },
    {
      "cell_type": "code",
      "source": [
        "akun_nasabah = {\n",
        "    \"Nouval\" : {\n",
        "        \"saldo\" : 1000000,\n",
        "        \"sex\" : \"L\"\n",
        "        },\n",
        "    \"Randy\" : {\n",
        "        \"saldo\" : 2000000,\n",
        "        \"sex\" : \"L\"\n",
        "        },\n",
        "    \"Bunga\" : {\n",
        "        \"saldo\" : 5000000,\n",
        "        \"sex\" : \"P\"\n",
        "        }\n",
        "}"
      ],
      "metadata": {
        "id": "-p_w1CYrGZLM"
      },
      "execution_count": null,
      "outputs": []
    },
    {
      "cell_type": "code",
      "source": [
        "#akun_nasabah[\"Nouval\"][\"saldo\"] = akun_nasabah[\"Nouval\"][\"saldo\"] + 5000000\n",
        "akun_nasabah[\"Nouval\"][\"saldo\"] += 5000000"
      ],
      "metadata": {
        "id": "M5BQjqCEGmKs"
      },
      "execution_count": null,
      "outputs": []
    },
    {
      "cell_type": "code",
      "source": [
        "akun_nasabah"
      ],
      "metadata": {
        "colab": {
          "base_uri": "https://localhost:8080/"
        },
        "id": "pon4qS_bJo1F",
        "outputId": "ea39fcf8-5988-423a-af9d-e8f57fad0c2d"
      },
      "execution_count": null,
      "outputs": [
        {
          "output_type": "execute_result",
          "data": {
            "text/plain": [
              "{'Nouval': {'saldo': 6000000, 'sex': 'L'},\n",
              " 'Randy': {'saldo': 2000000, 'sex': 'L'},\n",
              " 'Bunga': {'saldo': 5000000, 'sex': 'P'}}"
            ]
          },
          "metadata": {},
          "execution_count": 93
        }
      ]
    },
    {
      "cell_type": "code",
      "source": [
        "akun_nasabah.keys()"
      ],
      "metadata": {
        "colab": {
          "base_uri": "https://localhost:8080/"
        },
        "id": "mpShdr6SGoP3",
        "outputId": "f497c28b-d69b-490a-fcc2-643f2b47b5bf"
      },
      "execution_count": null,
      "outputs": [
        {
          "output_type": "execute_result",
          "data": {
            "text/plain": [
              "dict_keys(['Nouval', 'Randy', 'Bunga'])"
            ]
          },
          "metadata": {},
          "execution_count": 94
        }
      ]
    },
    {
      "cell_type": "code",
      "source": [
        "akun_nasabah.values()"
      ],
      "metadata": {
        "colab": {
          "base_uri": "https://localhost:8080/"
        },
        "id": "rfR1SccMHIOk",
        "outputId": "072240e4-37d8-4c9a-fd83-db7a7ed039dd"
      },
      "execution_count": null,
      "outputs": [
        {
          "output_type": "execute_result",
          "data": {
            "text/plain": [
              "dict_values([{'saldo': 6000000, 'sex': 'L'}, {'saldo': 2000000, 'sex': 'L'}, {'saldo': 5000000, 'sex': 'P'}])"
            ]
          },
          "metadata": {},
          "execution_count": 95
        }
      ]
    },
    {
      "cell_type": "code",
      "source": [
        "sum(akun_nasabah.values()) / len(akun_nasabah.values())"
      ],
      "metadata": {
        "colab": {
          "base_uri": "https://localhost:8080/",
          "height": 176
        },
        "id": "0uVhjbAJGsoC",
        "outputId": "aab61f87-45ff-4da4-ec39-01a1d3ef23ec"
      },
      "execution_count": null,
      "outputs": [
        {
          "output_type": "error",
          "ename": "TypeError",
          "evalue": "unsupported operand type(s) for +: 'int' and 'dict'",
          "traceback": [
            "\u001b[0;31m---------------------------------------------------------------------------\u001b[0m",
            "\u001b[0;31mTypeError\u001b[0m                                 Traceback (most recent call last)",
            "\u001b[0;32m<ipython-input-96-625d34457f56>\u001b[0m in \u001b[0;36m<cell line: 1>\u001b[0;34m()\u001b[0m\n\u001b[0;32m----> 1\u001b[0;31m \u001b[0msum\u001b[0m\u001b[0;34m(\u001b[0m\u001b[0makun_nasabah\u001b[0m\u001b[0;34m.\u001b[0m\u001b[0mvalues\u001b[0m\u001b[0;34m(\u001b[0m\u001b[0;34m)\u001b[0m\u001b[0;34m)\u001b[0m \u001b[0;34m/\u001b[0m \u001b[0mlen\u001b[0m\u001b[0;34m(\u001b[0m\u001b[0makun_nasabah\u001b[0m\u001b[0;34m.\u001b[0m\u001b[0mvalues\u001b[0m\u001b[0;34m(\u001b[0m\u001b[0;34m)\u001b[0m\u001b[0;34m)\u001b[0m\u001b[0;34m\u001b[0m\u001b[0;34m\u001b[0m\u001b[0m\n\u001b[0m",
            "\u001b[0;31mTypeError\u001b[0m: unsupported operand type(s) for +: 'int' and 'dict'"
          ]
        }
      ]
    },
    {
      "cell_type": "code",
      "source": [],
      "metadata": {
        "id": "Y032lxCfGuCk"
      },
      "execution_count": null,
      "outputs": []
    },
    {
      "cell_type": "markdown",
      "source": [
        "# Conntrol Flow"
      ],
      "metadata": {
        "id": "baQjpafrI2bi"
      }
    },
    {
      "cell_type": "code",
      "source": [
        "sapaan_cowok = \"Halo Tuan %s, sisa saldo anda adalah %d\"\n",
        "sapaan_cewek = \"Halo Nyonya %s, sisa saldo anda adalah %d\""
      ],
      "metadata": {
        "id": "MtAklrgYI4yG"
      },
      "execution_count": null,
      "outputs": []
    },
    {
      "cell_type": "code",
      "source": [
        "akun_nasabah_nouval = akun_nasabah[\"Nouval\"]"
      ],
      "metadata": {
        "id": "nko19YVeKIRi"
      },
      "execution_count": null,
      "outputs": []
    },
    {
      "cell_type": "code",
      "source": [
        "if akun_nasabah_nouval[\"sex\"] == \"L\":\n",
        "  print(sapaan_cowok % (\"Nouval\", akun_nasabah_nouval[\"saldo\"] ))"
      ],
      "metadata": {
        "colab": {
          "base_uri": "https://localhost:8080/"
        },
        "id": "r2yvjwM3KRQP",
        "outputId": "fd70e72f-55fc-411f-e0b3-1cacb3f2b0dc"
      },
      "execution_count": null,
      "outputs": [
        {
          "output_type": "stream",
          "name": "stdout",
          "text": [
            "Halo Tuan Nouval, sisa saldo anda adalah 6000000\n"
          ]
        }
      ]
    },
    {
      "cell_type": "code",
      "source": [
        "akun_nasabah_bunga = akun_nasabah[\"Bunga\"]"
      ],
      "metadata": {
        "id": "QCYdNZLkKd6M"
      },
      "execution_count": null,
      "outputs": []
    },
    {
      "cell_type": "code",
      "source": [
        "if akun_nasabah_bunga[\"sex\"] == \"L\":\n",
        "  print(sapaan_cewek % (\"Nouval\", akun_nasabah_bunga[\"saldo\"] ))"
      ],
      "metadata": {
        "id": "EIWniYkIKqli"
      },
      "execution_count": null,
      "outputs": []
    },
    {
      "cell_type": "code",
      "source": [
        "akun_nasabah_orang = akun_nasabah[\"Bunga\"]\n",
        "\n",
        "if akun_nasabah_orang[\"sex\"] == \"L\":\n",
        "  print(sapaan_cewek % (\"Nouval\", akun_nasabah_orang[\"saldo\"] ))\n",
        "else:\n",
        "  print(sapaan_cewek % (\"Bunga\", akun_nasabah_orang[\"saldo\"] ))"
      ],
      "metadata": {
        "colab": {
          "base_uri": "https://localhost:8080/"
        },
        "id": "aF9_cU9UKwHB",
        "outputId": "0820f5d3-0f87-4e73-e25a-64b60de47876"
      },
      "execution_count": null,
      "outputs": [
        {
          "output_type": "stream",
          "name": "stdout",
          "text": [
            "Halo Nyonya Bunga, sisa saldo anda adalah 5000000\n"
          ]
        }
      ]
    },
    {
      "cell_type": "code",
      "source": [
        "akun_nasabah_orang = akun_nasabah[\"Bunga\"]\n",
        "\n",
        "if (akun_nasabah_orang[\"sex\"] == \"L\") & (akun_nasabah_orang[\"saldo\"] > 10000000):\n",
        "  print(sapaan_cewek % (\"Nouval\", akun_nasabah_orang[\"saldo\"] ))\n",
        "elif akun_nasabah_orang[\"sex\"] == \"P\":\n",
        "  print(sapaan_cewek % (\"Bunga\", akun_nasabah_orang[\"saldo\"] ))\n",
        "else:\n",
        "  print(\"Data tidak ditemukan!\")"
      ],
      "metadata": {
        "colab": {
          "base_uri": "https://localhost:8080/"
        },
        "id": "7k-bOFFnLEn8",
        "outputId": "e633c03d-faaa-4519-bd43-0cadf2caf5ba"
      },
      "execution_count": null,
      "outputs": [
        {
          "output_type": "stream",
          "name": "stdout",
          "text": [
            "Halo Nyonya Bunga, sisa saldo anda adalah 5000000\n"
          ]
        }
      ]
    },
    {
      "cell_type": "code",
      "source": [
        "nilai = 90\n",
        "\n",
        "if nilai > 80:\n",
        "  print(\"A\")\n",
        "  if nilai > 70:\n",
        "    print(\"B\")\n",
        "\n",
        "elif nilai > 60:\n",
        "  print(\"B\")\n",
        "\n",
        "else:\n",
        "  print(\"C\")"
      ],
      "metadata": {
        "colab": {
          "base_uri": "https://localhost:8080/"
        },
        "id": "tmqThJZziNGY",
        "outputId": "3a4e012c-0250-4e2d-cf99-093f167fad41"
      },
      "execution_count": null,
      "outputs": [
        {
          "output_type": "stream",
          "name": "stdout",
          "text": [
            "A\n",
            "B\n"
          ]
        }
      ]
    },
    {
      "cell_type": "markdown",
      "source": [
        "## Logical\n",
        "AND (&)\n",
        "- True True -> True\n",
        "- True False -> False\n",
        "- False True -> False\n",
        "- False False -> False\n",
        "\n",
        "OR (|)\n",
        "- True True -> True\n",
        "- True False -> True\n",
        "- False True -> True\n",
        "- False False -> False"
      ],
      "metadata": {
        "id": "2AKGFXNOMZjW"
      }
    },
    {
      "cell_type": "markdown",
      "source": [
        "Challenge!\n",
        "\n",
        "**Code Challenge: Concert Ticket Purchase**\n",
        "\n",
        "Write a Python program that simulates a movie ticket purchase with the following conditions:\n",
        "\n",
        "1. If the user's age is less than 16, they can only purchase regular tickets.\n",
        "\n",
        "2. If the user's age is between 16 and 25 (inclusive), they have the option to purchase VIP tickets, which include backstage access.\n",
        "\n",
        "3. If the user's age is greater than 25, they can purchase regular, VIP or VVIP tickets.\n",
        "\n",
        "4. If the user is a student (regardless of age), they are eligible for a 10% discount on the ticket price.\n",
        "\n",
        "\n",
        "The base price for each ticket is defined as follows:\n",
        "- Regular ticket: IDR 100K\n",
        "- VIP ticket: 250K\n",
        "- VVIP ticket: 500K\n",
        "---\n",
        "\n",
        "**Your task is determine how much ticket price should be paid and which tickets are eligible to based on their age and student status.**"
      ],
      "metadata": {
        "id": "C1H8t0l1kJPp"
      }
    },
    {
      "cell_type": "code",
      "source": [
        "age = int(input())"
      ],
      "metadata": {
        "id": "OVpNnfJ2LS0S",
        "colab": {
          "base_uri": "https://localhost:8080/"
        },
        "outputId": "b008830d-7faf-47ce-ddac-ea811e8e53d4"
      },
      "execution_count": null,
      "outputs": [
        {
          "name": "stdout",
          "output_type": "stream",
          "text": [
            "70\n"
          ]
        }
      ]
    },
    {
      "cell_type": "code",
      "source": [
        "age = int(input(\"Masukkan umur: \"))\n",
        "ticket = {\n",
        "    \"regular\": 100,\n",
        "    \"VIP\": 250,\n",
        "    \"VVIP\": 500\n",
        "}\n",
        "\n",
        "if age < 16:\n",
        "  choice = \"regular\"\n",
        "\n",
        "elif age > 16 and age <=25:\n",
        "\n",
        "  input_choice = int(input(\"0: regular, 1: VIP\" ))\n",
        "  choice = [\"regular\", \"VIP\"]\n",
        "\n",
        "  if input_choice < 0 or input_choice > 1:\n",
        "    raise ValueError(\"Input Invalid!\")\n",
        "\n",
        "  choice = choice[input_choice]\n",
        "\n",
        "else:\n",
        "  input_choice = int(input(\"0: regular, 1: VIP, 2: VVIP\" ))\n",
        "  choice = [\"regular\", \"VIP\", \"VVIP\"]\n",
        "\n",
        "  if input_choice < 0 or input_choice > 2:\n",
        "    raise ValueError(\"Input Invalid!\")\n",
        "\n",
        "  choice = choice[input_choice]\n",
        "\n",
        "is_student = input(\"Apakah anda seorang siswa? Y/N\")\n",
        "\n",
        "if is_student == \"Y\":\n",
        "  discount = 0.1\n",
        "else:\n",
        "  discount = 0\n",
        "\n",
        "price = ticket[choice] * (1 - discount)\n",
        "print(f\"Tiket {choice} berhasil dibeli seharga {price}\")"
      ],
      "metadata": {
        "colab": {
          "base_uri": "https://localhost:8080/",
          "height": 298
        },
        "id": "6cKgOgyRkZSQ",
        "outputId": "c17d4401-7b19-4c95-c259-d3a6541de51c"
      },
      "execution_count": null,
      "outputs": [
        {
          "output_type": "stream",
          "name": "stdout",
          "text": [
            "Masukkan umur: 17\n",
            "0: regular, 1: VIP2\n",
            "Input invalid!\n"
          ]
        },
        {
          "output_type": "error",
          "ename": "IndexError",
          "evalue": "list index out of range",
          "traceback": [
            "\u001b[0;31m---------------------------------------------------------------------------\u001b[0m",
            "\u001b[0;31mIndexError\u001b[0m                                Traceback (most recent call last)",
            "\u001b[0;32m<ipython-input-19-3c9c130bcfd5>\u001b[0m in \u001b[0;36m<cell line: 8>\u001b[0;34m()\u001b[0m\n\u001b[1;32m     17\u001b[0m     \u001b[0;31m#raise ValueError(\"Input Invalid!\")\u001b[0m\u001b[0;34m\u001b[0m\u001b[0;34m\u001b[0m\u001b[0m\n\u001b[1;32m     18\u001b[0m     \u001b[0mprint\u001b[0m\u001b[0;34m(\u001b[0m\u001b[0;34m\"Input invalid!\"\u001b[0m\u001b[0;34m)\u001b[0m\u001b[0;34m\u001b[0m\u001b[0;34m\u001b[0m\u001b[0m\n\u001b[0;32m---> 19\u001b[0;31m   \u001b[0mchoice\u001b[0m \u001b[0;34m=\u001b[0m \u001b[0mchoice\u001b[0m\u001b[0;34m[\u001b[0m\u001b[0minput_choice\u001b[0m\u001b[0;34m]\u001b[0m\u001b[0;34m\u001b[0m\u001b[0;34m\u001b[0m\u001b[0m\n\u001b[0m\u001b[1;32m     20\u001b[0m \u001b[0;34m\u001b[0m\u001b[0m\n\u001b[1;32m     21\u001b[0m \u001b[0;32melse\u001b[0m\u001b[0;34m:\u001b[0m\u001b[0;34m\u001b[0m\u001b[0;34m\u001b[0m\u001b[0m\n",
            "\u001b[0;31mIndexError\u001b[0m: list index out of range"
          ]
        }
      ]
    },
    {
      "cell_type": "markdown",
      "source": [
        "# Looping\n",
        "- For: Kita udah punya list untuk dilooping\n",
        "- While: Belum punya list nya dan looping nya jalan terus sampai suatu kondisi"
      ],
      "metadata": {
        "id": "8q_cTMiuNi2m"
      }
    },
    {
      "cell_type": "markdown",
      "source": [
        "## For looping"
      ],
      "metadata": {
        "id": "fALOzAneq_Kc"
      }
    },
    {
      "cell_type": "code",
      "source": [],
      "metadata": {
        "id": "lOOeazgBq-l8"
      },
      "execution_count": null,
      "outputs": []
    },
    {
      "cell_type": "code",
      "source": [
        "akun_nasabah"
      ],
      "metadata": {
        "colab": {
          "base_uri": "https://localhost:8080/"
        },
        "id": "gWMCP3EPOuIE",
        "outputId": "3e3b5e66-daac-4f61-99a6-9e1f7a82741c"
      },
      "execution_count": null,
      "outputs": [
        {
          "output_type": "execute_result",
          "data": {
            "text/plain": [
              "{'Nouval': {'saldo': 1000000, 'sex': 'L'},\n",
              " 'Randy': {'saldo': 2000000, 'sex': 'L'},\n",
              " 'Bunga': {'saldo': 5000000, 'sex': 'P'}}"
            ]
          },
          "metadata": {},
          "execution_count": 14
        }
      ]
    },
    {
      "cell_type": "code",
      "source": [
        "nasabah_laki = []\n",
        "nasabah_perepmpuan = []\n",
        "\n",
        "for nasabah in akun_nasabah:\n",
        "\n",
        "  akun_orang = akun_nasabah[nasabah]\n",
        "\n",
        "  if akun_orang[\"sex\"] == \"L\":\n",
        "\n",
        "    if akun_orang[\"saldo\"] < 5000000:\n",
        "      sapaan = f\"\"\"Halo Tuan {nasabah}, sisa saldo anda {akun_orang[\"saldo\"]} segera top up!\"\"\"\n",
        "\n",
        "    else:\n",
        "      sapaan = f\"\"\"Halo Tuan {nasabah}, sisa saldo anda {akun_orang[\"saldo\"]}\"\"\"\n",
        "\n",
        "    nasabah_laki.append(sapaan)\n",
        "\n",
        "  elif akun_orang[\"sex\"] == \"P\":\n",
        "\n",
        "    if akun_orang[\"saldo\"] < 5000000:\n",
        "      sapaan = f\"\"\"Halo Nyonya {nasabah}, sisa saldo anda {akun_orang[\"saldo\"]} segera top up!\"\"\"\n",
        "\n",
        "    else:\n",
        "      sapaan = f\"\"\"Halo Nyonya {nasabah}, sisa saldo anda {akun_orang[\"saldo\"]}\"\"\"\n",
        "\n",
        "    nasabah_perepmpuan.append(sapaan)\n"
      ],
      "metadata": {
        "id": "AcF3RYaANkTR"
      },
      "execution_count": null,
      "outputs": []
    },
    {
      "cell_type": "code",
      "source": [
        "for sapaan in nasabah_laki:\n",
        "  print(sapaan)"
      ],
      "metadata": {
        "colab": {
          "base_uri": "https://localhost:8080/"
        },
        "id": "p0MvtUoyQBfS",
        "outputId": "1e785e98-cac3-4520-c938-0f84413a4e6e"
      },
      "execution_count": null,
      "outputs": [
        {
          "output_type": "stream",
          "name": "stdout",
          "text": [
            "Halo Tuan Nouval, sisa saldo anda 6000000\n",
            "Halo Tuan Randy, sisa saldo anda 2000000 segera top up!\n"
          ]
        }
      ]
    },
    {
      "cell_type": "code",
      "source": [
        "#iterasi 1\n",
        "nasabah = \"Nouval\"\n",
        "akun_orang = akun_nasabah[\"Nouval\"]\n",
        "cek if akun_orang[\"sex\"] == \"L\"\n",
        "print(sapaan_cowok)\n",
        "\n",
        "#iterasi 3\n",
        "nasabah = \"Bunga\"\n",
        "akun_orang = akun_nasabah[\"Bunga\"]\n",
        "cek if akun_orang[\"sex\"] != \"L\"\n",
        "cek elif akun_orang[\"sex\"] == \"P\"\n",
        "print(sapaan_cewek)"
      ],
      "metadata": {
        "id": "0Y-7pVUENu7B"
      },
      "execution_count": null,
      "outputs": []
    },
    {
      "cell_type": "markdown",
      "source": [
        "## While looping"
      ],
      "metadata": {
        "id": "IOmn5fAJrCAZ"
      }
    },
    {
      "cell_type": "code",
      "source": [
        "penonton_list = [\n",
        "    {\"umur\" : 20, \"student\": 1},\n",
        "    {\"umur\" : 17, \"student\": 1},\n",
        "    {\"umur\" : 25, \"student\": 0},\n",
        "    {\"umur\" : 10, \"student\": 1},\n",
        "    {\"umur\" : 12, \"student\": 1}\n",
        "]\n",
        "\n",
        "syarat_umur = 10\n",
        "umur_penonton = syarat_umur\n",
        "iterasi = 0\n",
        "\n",
        "while umur_penonton >= syarat_umur:\n",
        "\n",
        "  penonton = penonton_list[iterasi]\n",
        "  umur_penonton = penonton[\"umur\"]\n",
        "  iterasi += 1\n",
        "\n",
        "else:\n",
        "  raise ValueError(f\"Penonton dengan umur {umur_penonton} tahun dilarang masuk!\")\n",
        "\n",
        "print(f\"Sebanyak {iterasi - 1} penonton diperbolehkan masuk.\")\n",
        "\n"
      ],
      "metadata": {
        "id": "7cReWBK4rDgA",
        "colab": {
          "base_uri": "https://localhost:8080/",
          "height": 246
        },
        "outputId": "e2115891-5d44-4edc-807f-ec84b37c4f70"
      },
      "execution_count": null,
      "outputs": [
        {
          "output_type": "error",
          "ename": "ValueError",
          "evalue": "Penonton dengan umur 10 tahun dilarang masuk!",
          "traceback": [
            "\u001b[0;31m---------------------------------------------------------------------------\u001b[0m",
            "\u001b[0;31mValueError\u001b[0m                                Traceback (most recent call last)",
            "\u001b[0;32m<ipython-input-8-b319945c4344>\u001b[0m in \u001b[0;36m<cell line: 13>\u001b[0;34m()\u001b[0m\n\u001b[1;32m     18\u001b[0m \u001b[0;34m\u001b[0m\u001b[0m\n\u001b[1;32m     19\u001b[0m \u001b[0;32melse\u001b[0m\u001b[0;34m:\u001b[0m\u001b[0;34m\u001b[0m\u001b[0;34m\u001b[0m\u001b[0m\n\u001b[0;32m---> 20\u001b[0;31m   \u001b[0;32mraise\u001b[0m \u001b[0mValueError\u001b[0m\u001b[0;34m(\u001b[0m\u001b[0;34mf\"Penonton dengan umur {umur_penonton} tahun dilarang masuk!\"\u001b[0m\u001b[0;34m)\u001b[0m\u001b[0;34m\u001b[0m\u001b[0;34m\u001b[0m\u001b[0m\n\u001b[0m\u001b[1;32m     21\u001b[0m \u001b[0;34m\u001b[0m\u001b[0m\n\u001b[1;32m     22\u001b[0m \u001b[0mprint\u001b[0m\u001b[0;34m(\u001b[0m\u001b[0;34mf\"Sebanyak {iterasi - 1} penonton diperbolehkan masuk.\"\u001b[0m\u001b[0;34m)\u001b[0m\u001b[0;34m\u001b[0m\u001b[0;34m\u001b[0m\u001b[0m\n",
            "\u001b[0;31mValueError\u001b[0m: Penonton dengan umur 10 tahun dilarang masuk!"
          ]
        }
      ]
    },
    {
      "cell_type": "markdown",
      "source": [
        "## List Comprehension"
      ],
      "metadata": {
        "id": "S8OlrYnyyjPz"
      }
    },
    {
      "cell_type": "code",
      "source": [
        "forbidden = []\n",
        "for penonton in penonton_list:\n",
        "  umur, student = penonton[\"umur\"], penonton[\"student\"]\n",
        "  if umur < syarat_umur:\n",
        "    forbidden.append(penonton)"
      ],
      "metadata": {
        "id": "C9gAZ9RGvZ14"
      },
      "execution_count": null,
      "outputs": []
    },
    {
      "cell_type": "code",
      "source": [
        "forbidden = [penonton for penonton in penonton_list if penonton[\"umur\"] < syarat_umur ]"
      ],
      "metadata": {
        "id": "e3XF71vFy-Ko"
      },
      "execution_count": null,
      "outputs": []
    },
    {
      "cell_type": "code",
      "source": [
        "forbidden"
      ],
      "metadata": {
        "colab": {
          "base_uri": "https://localhost:8080/"
        },
        "id": "OeDszwCqzBFV",
        "outputId": "16543627-ca0c-418b-a832-d0cf0cf5b734"
      },
      "execution_count": null,
      "outputs": [
        {
          "output_type": "execute_result",
          "data": {
            "text/plain": [
              "[{'umur': 10, 'student': 1}, {'umur': 12, 'student': 1}]"
            ]
          },
          "metadata": {},
          "execution_count": 19
        }
      ]
    },
    {
      "cell_type": "markdown",
      "source": [
        "# Function"
      ],
      "metadata": {
        "id": "aBYKQo9-0Mtv"
      }
    },
    {
      "cell_type": "code",
      "source": [
        "def menghitung_harga(age, is_student, ticket_choice, discount = 0.1, min_age = 16, max_age = 27):\n",
        "\n",
        "  ticket = {\n",
        "    \"regular\": 100,\n",
        "    \"VIP\": 250,\n",
        "    \"VVIP\": 500\n",
        "  }\n",
        "\n",
        "  if ticket_choice not in ticket:\n",
        "    raise ValueError(\"Ticket type invalid!\")\n",
        "\n",
        "  if age < min_age:\n",
        "    if ticket_choice != \"regular\":\n",
        "      raise ValueError(\"Ticket type forbidden!\")\n",
        "    else:\n",
        "      ticket_price = ticket[\"regular\"]\n",
        "\n",
        "  elif age > min_age and age <= max_age:\n",
        "    if ticket_choice == \"VVIP\":\n",
        "      raise ValueError(\"Ticket type forbidden!\")\n",
        "    else:\n",
        "      ticket_price = ticket[ticket_choice]\n",
        "  else:\n",
        "      ticket_price = ticket[ticket_choice]\n",
        "\n",
        "  if is_student == 0:\n",
        "    discount = 0\n",
        "\n",
        "  price = ticket_price * (1 - discount)\n",
        "\n",
        "  return price"
      ],
      "metadata": {
        "id": "fk0gRORAzqA9"
      },
      "execution_count": null,
      "outputs": []
    },
    {
      "cell_type": "code",
      "source": [
        "penonton_list = [\n",
        "    {\"umur\" : 20, \"student\": 1, \"ticket_chocie\" : \"regular\"},\n",
        "    {\"umur\" : 17, \"student\": 1, \"ticket_chocie\" : \"regular\"},\n",
        "    {\"umur\" : 25, \"student\": 0, \"ticket_chocie\" : \"VIP\"},\n",
        "    {\"umur\" : 10, \"student\": 1, \"ticket_chocie\" : \"regular\"},\n",
        "    {\"umur\" : 12, \"student\": 1, \"ticket_chocie\" : \"regular\"}\n",
        "]"
      ],
      "metadata": {
        "id": "XEWrPP4B1QFg"
      },
      "execution_count": null,
      "outputs": []
    },
    {
      "cell_type": "code",
      "source": [
        "price_list = [menghitung_harga(penonton[\"umur\"], penonton[\"student\"], penonton[\"ticket_chocie\"]) for penonton in penonton_list]"
      ],
      "metadata": {
        "id": "GzsdNAxG1UB9"
      },
      "execution_count": null,
      "outputs": []
    },
    {
      "cell_type": "code",
      "source": [
        "price_list"
      ],
      "metadata": {
        "colab": {
          "base_uri": "https://localhost:8080/"
        },
        "id": "CFu9k3CA3VLp",
        "outputId": "fdffbb33-6481-4d48-e2fc-e658d027d2ff"
      },
      "execution_count": null,
      "outputs": [
        {
          "output_type": "execute_result",
          "data": {
            "text/plain": [
              "[90.0, 90.0, 250, 90.0, 90.0]"
            ]
          },
          "metadata": {},
          "execution_count": 43
        }
      ]
    },
    {
      "cell_type": "code",
      "source": [
        "hitung_jumlah_tiket = lambda x: \"Tiket terjual habis\" if len(x) > 10 else f\"Ticket masih tersisa {10 - len(x)}\""
      ],
      "metadata": {
        "id": "50jFBV_C3ZV7"
      },
      "execution_count": null,
      "outputs": []
    },
    {
      "cell_type": "code",
      "source": [
        "hitung_jumlah_tiket(price_list)"
      ],
      "metadata": {
        "colab": {
          "base_uri": "https://localhost:8080/",
          "height": 35
        },
        "id": "Q7rNCgqu4PKL",
        "outputId": "a7ed47a8-23d9-48d0-91d1-cec020af227f"
      },
      "execution_count": null,
      "outputs": [
        {
          "output_type": "execute_result",
          "data": {
            "text/plain": [
              "'Ticket masih tersisa 5'"
            ],
            "application/vnd.google.colaboratory.intrinsic+json": {
              "type": "string"
            }
          },
          "metadata": {},
          "execution_count": 53
        }
      ]
    },
    {
      "cell_type": "code",
      "source": [],
      "metadata": {
        "id": "iSCGlGce4Tkr"
      },
      "execution_count": null,
      "outputs": []
    }
  ]
}