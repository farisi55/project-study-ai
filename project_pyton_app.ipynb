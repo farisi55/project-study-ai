{
  "nbformat": 4,
  "nbformat_minor": 0,
  "metadata": {
    "colab": {
      "provenance": []
    },
    "kernelspec": {
      "name": "python3",
      "display_name": "Python 3"
    },
    "language_info": {
      "name": "python"
    }
  },
  "cells": [
    {
      "cell_type": "markdown",
      "source": [
        "#One week project pyton\n",
        "\n",
        "## intial data\n",
        "\n",
        "berisikan data awal, yang biasa di import dari database atau file csv"
      ],
      "metadata": {
        "id": "UyNol21F3DAs"
      }
    },
    {
      "cell_type": "code",
      "source": [
        "#init data\n",
        "\n",
        "data_kelas = [\n",
        "    {\"classname\" : \"AI Enggineering\",\n",
        "     \"durations\" : \"2 months\",\n",
        "     \"mentor\" : \"Joe Doe\",\n",
        "     \"quota\" : 20,\n",
        "     \"location\" : \"jakarta\",\n",
        "     \"active\" : \"y\"},\n",
        "    {\"classname\" : \"Data Science\",\n",
        "     \"durations\" : \"2 months\",\n",
        "     \"mentor\" : \"Ali Baba\",\n",
        "     \"quota\" : 20,\n",
        "     \"location\" : \"jakarta\",\n",
        "     \"active\" : \"y\"},\n",
        "    {\"classname\" : \"Software Engineering\",\n",
        "     \"durations\" : \"2 months\",\n",
        "     \"mentor\" : \"Uncle Bob\",\n",
        "     \"quota\" : 20,\n",
        "     \"location\" : \"jakarta\",\n",
        "     \"active\" : \"n\"}\n",
        "]"
      ],
      "metadata": {
        "id": "AIea3_W-3Ogl"
      },
      "execution_count": 1,
      "outputs": []
    },
    {
      "cell_type": "markdown",
      "source": [
        "## create function insert\n",
        "\n",
        "function yang berikan perintah untuk menambahkan data"
      ],
      "metadata": {
        "id": "5-dPN5QX3mLQ"
      }
    },
    {
      "cell_type": "code",
      "source": [
        "def function_tambah_data():\n",
        "\n",
        "  while True:\n",
        "    classname = str(input(\"masukan nama kelas : \"))\n",
        "    durations = int(input(\"masukan durasi (bulan) : \"))\n",
        "    mentor = str(input(\"masukan nama mentor : \"))\n",
        "    quota = int(input(\"masukan jumlah kuota (orang) : \"))\n",
        "    location = str(input(\"masukan lokasi kelas : \"))\n",
        "    active = str(input(\"masukan status active kelas (y/n) : \"))\n",
        "\n",
        "    dict_daftar_kelas = {\n",
        "     \"classname\" : classname.strip(),\n",
        "     \"durations\" : durations,\n",
        "     \"mentor\" : mentor.strip(),\n",
        "     \"quota\" : quota,\n",
        "     \"location\" : location.strip(),\n",
        "     \"active\" : active.strip()\n",
        "    }\n",
        "\n",
        "\n",
        "    #cetak sebelum disave\n",
        "    print(dict_daftar_kelas)\n",
        "    konfrim = str(input(\"apakah yakin ingin ditambahkan(y/n) : \"))\n",
        "    if konfrim.strip().lower() == 'y':\n",
        "       data_kelas.append(dict_daftar_kelas)\n",
        "\n",
        "    exit = str(input(\"apakah mau menambah data lagi(y/n) : \"))\n",
        "    if exit.strip().lower() == 'n':\n",
        "      break"
      ],
      "metadata": {
        "id": "cRLpriJZ3wPm"
      },
      "execution_count": 2,
      "outputs": []
    },
    {
      "cell_type": "markdown",
      "source": [
        "## create function find data\n",
        "\n",
        "function yang berisikan memncari data yang sudah ada"
      ],
      "metadata": {
        "id": "RQ77fioh4RIg"
      }
    },
    {
      "cell_type": "code",
      "source": [
        "def function_cari():\n",
        "\n",
        "  while True:\n",
        "    cari_classname = str(input(\"masukan nama kelas yang ingin dicari atau masukan all untuk lihat semua : \"))\n",
        "\n",
        "    data_notfound = True\n",
        "\n",
        "    if cari_classname.strip().lower() == \"all\":\n",
        "      print(data_kelas)\n",
        "      print(\"==========================\")\n",
        "      data_notfound = False\n",
        "    else:\n",
        "      for i, j in enumerate(data_kelas):\n",
        "        if j['classname'].lower() ==  cari_classname.strip().lower():\n",
        "          print(data_kelas[i])\n",
        "          print(\"==========================\")\n",
        "          data_notfound = False\n",
        "          break\n",
        "\n",
        "    if data_notfound :\n",
        "      print(f\"kelas {cari_classname} : tidak ditemukan\")\n",
        "      print(\"==========================\")\n",
        "\n",
        "    exit_cari = str(input(\"apakah ada mau kembali menu utama (y/n) : \"))\n",
        "    if exit_cari.strip().lower() == 'y':\n",
        "      break"
      ],
      "metadata": {
        "id": "iE0-LbIq4XEJ"
      },
      "execution_count": 14,
      "outputs": []
    },
    {
      "cell_type": "markdown",
      "source": [
        "## create function delete data\n",
        "\n",
        "function yang berfunsgi untuk menghapus data yang sudah tidak digunakan"
      ],
      "metadata": {
        "id": "rmElqzcz4e0u"
      }
    },
    {
      "cell_type": "code",
      "source": [
        "def function_hapus():\n",
        "\n",
        "  while True:\n",
        "    cari_classname = str(input(\"masukan nama kelas yang ingin dihapus: \"))\n",
        "\n",
        "    data_notfound = True\n",
        "\n",
        "    for i, j in enumerate(data_kelas):\n",
        "      if j['classname'].lower() ==  cari_classname.strip().lower():\n",
        "        print(data_kelas[i])\n",
        "        data_notfound = False\n",
        "        konfrim = str(input(\"apakah yakin ingin dihapus(y/n) : \"))\n",
        "        if konfrim.strip().lower() == 'y':\n",
        "          del data_kelas[i]\n",
        "        print(\"==========================\")\n",
        "\n",
        "    if data_notfound:\n",
        "      print(f\"kelas {cari_classname} : tidak ditemukan\")\n",
        "      print(\"==========================\")\n",
        "\n",
        "    exit_cari = str(input(\"apakah ada mau kembali menu utama (y/n) : \"))\n",
        "    if exit_cari.strip().lower() == 'y':\n",
        "      break"
      ],
      "metadata": {
        "id": "s2H8SaI74qFi"
      },
      "execution_count": 16,
      "outputs": []
    },
    {
      "cell_type": "markdown",
      "source": [
        "## cretae main app\n",
        "\n",
        "aplikasi utama yang merupakan kumpulan dari function yang sudah dibuat"
      ],
      "metadata": {
        "id": "XmbGIb0f43N5"
      }
    },
    {
      "cell_type": "code",
      "source": [
        "while True:\n",
        "  print(\"Selamat datang di Aplikasi Akademik QarirLab\")\n",
        "  print(\"============================================\")\n",
        "  print(\"MENU UTAMA\")\n",
        "  print(\"1. Menu Tambah Data\")\n",
        "  print(\"2. Menu Cari Data\")\n",
        "  print(\"3. Menu Hapus Data\")\n",
        "  print(\"tekan 0 jika kamu mau keluar\")\n",
        "  print(\"============================================\")\n",
        "  menu_pilihan = str(input(\"silahkan masuk menu pilihan kamu : \"))\n",
        "  if menu_pilihan == \"1\":\n",
        "    function_tambah_data()\n",
        "  elif menu_pilihan == \"2\":\n",
        "    function_cari()\n",
        "  elif menu_pilihan == \"3\":\n",
        "    function_hapus()\n",
        "  elif menu_pilihan == \"0\":\n",
        "    break\n",
        "  else:\n",
        "    print('#####')\n",
        "    print(\"ERROR : kamu salah memasukan menu\")\n",
        "    print('#####')\n",
        "\n",
        "print(\"Terimakasih sudah menggunakan Aplikasi Akademik QarirLab\")"
      ],
      "metadata": {
        "colab": {
          "base_uri": "https://localhost:8080/"
        },
        "id": "65UFP2893baf",
        "outputId": "4fecc193-6fc4-46de-d393-73a95b4e9070"
      },
      "execution_count": 20,
      "outputs": [
        {
          "output_type": "stream",
          "name": "stdout",
          "text": [
            "Selamat datang di Aplikasi Akademik QarirLab\n",
            "============================================\n",
            "MENU UTAMA\n",
            "1. Menu Tambah Data\n",
            "2. Menu Cari Data\n",
            "3. Menu Hapus Data\n",
            "tekan 0 jika kamu mau keluar\n",
            "============================================\n",
            "silahkan masuk menu pilihan kamu : 0\n",
            "Terimakasih sudah menggunakan Aplikasi Akademik QarirLab\n"
          ]
        }
      ]
    }
  ]
}